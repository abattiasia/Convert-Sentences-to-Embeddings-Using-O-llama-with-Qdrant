{
 "cells": [
  {
   "cell_type": "code",
   "execution_count": null,
   "id": "d36fed37-88f0-461b-99fd-21f4e4d5e21d",
   "metadata": {},
   "outputs": [],
   "source": [
    "# Task 3:Convert Sentences to Embeddings Using Ollama and Implement Similarity Search with a Vector Database"
   ]
  },
  {
   "cell_type": "code",
   "execution_count": null,
   "id": "48147a75-f59b-4351-81e7-9e8cf9de784d",
   "metadata": {},
   "outputs": [],
   "source": [
    "# generate embeddings \n",
    "from sentence_transformers import SentenceTransformer\n",
    "\n",
    "# Load a pre-trained sentence transformer model\n",
    "model = SentenceTransformer('all-MiniLM-L6-v2')\n",
    "\n",
    "# # Example words to embed\n",
    "# words = [\"apple\", \"banana\", \"car\", \"train\"]\n",
    "\n",
    "# Sample sentences to embed\n",
    "texts = [ \"LangChain is a framework for building applications using LLMs.\", \n",
    "\"Ollama provides easy access to various AI models.\", \n",
    "\"Generative AI is revolutionizing industries.\" ]\n",
    "\n",
    "\n",
    "# Generate embeddings\n",
    "embeddings = model.encode(texts)\n",
    "\n",
    "\n",
    "# Print the embeddings\n",
    "for text, embedding in zip(texts, embeddings):\n",
    "    print(f\"Word: {text}, Embedding: {embedding}\")"
   ]
  },
  {
   "cell_type": "code",
   "execution_count": 5,
   "id": "84a2b248-0589-428d-a8ca-d3106c3b14e1",
   "metadata": {},
   "outputs": [
    {
     "data": {
      "text/plain": [
       "True"
      ]
     },
     "execution_count": 5,
     "metadata": {},
     "output_type": "execute_result"
    }
   ],
   "source": [
    "from qdrant_client import QdrantClient\n",
    "client = QdrantClient(url=\"http://localhost:6333\")\n",
    "from qdrant_client.models import Distance, VectorParams\n",
    "\n",
    "#Create a new collection for the words\n",
    "collection_name = \"Pinecone\"\n",
    "client.create_collection(\n",
    "    collection_name=collection_name,\n",
    "    vectors_config=VectorParams(size=embeddings.shape[1], distance=Distance.DOT)  # Use the size of the embedding\n",
    ")"
   ]
  },
  {
   "cell_type": "code",
   "execution_count": 7,
   "id": "44471a1f-064a-4d1b-b08b-1fc867123fd3",
   "metadata": {},
   "outputs": [
    {
     "data": {
      "text/plain": [
       "UpdateResult(operation_id=0, status=<UpdateStatus.COMPLETED: 'completed'>)"
      ]
     },
     "execution_count": 7,
     "metadata": {},
     "output_type": "execute_result"
    }
   ],
   "source": [
    "from qdrant_client.http.models import PointStruct\n",
    "points = [\n",
    "    PointStruct(\n",
    "        id=i + 1,  # Assign a unique ID to each point\n",
    "        vector=embedding.tolist()  # Convert embedding to a list for insertion\n",
    "    )\n",
    "    for i, embedding in enumerate(embeddings)  # Loop through embeddings and create PointStruct\n",
    "]\n",
    "\n",
    "client.upsert(\n",
    "    collection_name=collection_name,\n",
    "    points=points  # Insert all points into the collection\n",
    ")"
   ]
  },
  {
   "cell_type": "code",
   "execution_count": null,
   "id": "84d8a842-2640-4e36-8220-f3677696aa05",
   "metadata": {},
   "outputs": [],
   "source": []
  }
 ],
 "metadata": {
  "kernelspec": {
   "display_name": "Python 3 (ipykernel)",
   "language": "python",
   "name": "python3"
  },
  "language_info": {
   "codemirror_mode": {
    "name": "ipython",
    "version": 3
   },
   "file_extension": ".py",
   "mimetype": "text/x-python",
   "name": "python",
   "nbconvert_exporter": "python",
   "pygments_lexer": "ipython3",
   "version": "3.12.2"
  }
 },
 "nbformat": 4,
 "nbformat_minor": 5
}
